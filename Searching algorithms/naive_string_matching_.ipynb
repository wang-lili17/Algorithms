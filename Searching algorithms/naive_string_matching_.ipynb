{
  "nbformat": 4,
  "nbformat_minor": 0,
  "metadata": {
    "colab": {
      "provenance": [],
      "authorship_tag": "ABX9TyMUT4XQnP4ZhSOeMPZFQXt9",
      "include_colab_link": true
    },
    "kernelspec": {
      "name": "python3",
      "display_name": "Python 3"
    },
    "language_info": {
      "name": "python"
    }
  },
  "cells": [
    {
      "cell_type": "markdown",
      "metadata": {
        "id": "view-in-github",
        "colab_type": "text"
      },
      "source": [
        "<a href=\"https://colab.research.google.com/github/wang-lili17/Coding/blob/main/naive_string_matching_.ipynb\" target=\"_parent\"><img src=\"https://colab.research.google.com/assets/colab-badge.svg\" alt=\"Open In Colab\"/></a>"
      ]
    },
    {
      "cell_type": "code",
      "execution_count": 9,
      "metadata": {
        "colab": {
          "base_uri": "https://localhost:8080/"
        },
        "id": "NUkt8noxAofH",
        "outputId": "4d73d8ac-d155-446c-c350-f4d42df59017"
      },
      "outputs": [
        {
          "output_type": "stream",
          "name": "stdout",
          "text": [
            "[3, 9, 16]\n"
          ]
        }
      ],
      "source": [
        "def naive_string_matching(T,P):\n",
        "  n=len(T)\n",
        "  m=len(P)\n",
        "  l=[]\n",
        "  for s in range(0,n-m+1):\n",
        "    if P[:m]==T[s:s+m]:\n",
        "      l.append(s)\n",
        "  return l\n",
        "T=\"AAABABBAABABBCCCBABB\"\n",
        "P=\"BABB\"\n",
        "print(naive_string_matching(T,P))\n"
      ]
    }
  ]
}