{
  "nbformat": 4,
  "nbformat_minor": 0,
  "metadata": {
    "colab": {
      "provenance": []
    },
    "kernelspec": {
      "name": "python3",
      "display_name": "Python 3"
    },
    "language_info": {
      "name": "python"
    }
  },
  "cells": [
    {
      "cell_type": "code",
      "execution_count": 1,
      "metadata": {
        "colab": {
          "base_uri": "https://localhost:8080/"
        },
        "id": "DvVI0k7NAxu3",
        "outputId": "0d13e280-5239-4ec1-94b4-db2ad9c9766d"
      },
      "outputs": [
        {
          "output_type": "stream",
          "name": "stdout",
          "text": [
            "[0, 9, 13, 3, 2, 10, 1, 6, 4, 7, 11, 5, 12, 8]\n"
          ]
        }
      ],
      "source": [
        "from collections import deque\n",
        "def find_topological_ordering(graph):\n",
        "  n=len(graph)\n",
        "  in_degree=[0]*n\n",
        "  q=deque()\n",
        "  for i in range(n):\n",
        "    for j in range(n):\n",
        "      if graph[i][j]==1:\n",
        "        in_degree[j]+=1\n",
        "\n",
        "  for i in range(n):\n",
        "    if in_degree[i]==0:\n",
        "      q.append(i)\n",
        "  index=0\n",
        "  order=[0]*n\n",
        "  while q:\n",
        "    a=q.popleft()\n",
        "    order[index]=a\n",
        "\n",
        "    for i in range(n):\n",
        "      if graph[a][i]==1:\n",
        "        in_degree[i]-=1\n",
        "        if in_degree[i]==0:\n",
        "          q.append(i)\n",
        "    index+=1\n",
        "\n",
        "\n",
        "  if index==n:\n",
        "    return order\n",
        "  else:\n",
        "    return None\n",
        "\n",
        "graph = [\n",
        "    [0,0,1,1,0,0,1,0,0,0,0,0,0,0],\n",
        "    [0,0,0,0,1,0,0,0,0,0,0,0,0,0],\n",
        "    [0,0,0,0,0,0,1,0,0,0,0,0,0,0],\n",
        "    [0,1,0,0,1,0,0,0,0,0,0,0,0,0],\n",
        "    [0,0,0,0,0,1,0,0,1,0,0,0,0,0],\n",
        "    [0,0,0,0,0,0,0,0,0,0,0,0,0,0],\n",
        "    [0,0,0,0,0,0,0,1,0,0,0,1,0,0],\n",
        "    [0,0,0,0,0,1,0,0,0,0,0,0,1,0],\n",
        "    [0,0,0,0,0,0,0,0,0,0,0,0,0,0],\n",
        "    [0,0,1,0,0,0,0,0,0,0,1,0,0,0],\n",
        "    [0,0,0,0,0,0,1,0,0,0,0,0,0,0],\n",
        "    [0,0,0,0,0,0,0,0,0,0,0,0,1,0],\n",
        "    [0,0,0,0,0,0,0,0,1,0,0,0,0,0],\n",
        "    [0,0,0,0,0,0,0,0,0,0,0,0,0,0]\n",
        "]\n",
        "\n",
        "result = find_topological_ordering(graph)\n",
        "print(result)"
      ]
    }
  ]
}