{
  "nbformat": 4,
  "nbformat_minor": 0,
  "metadata": {
    "colab": {
      "provenance": []
    },
    "kernelspec": {
      "name": "python3",
      "display_name": "Python 3"
    },
    "language_info": {
      "name": "python"
    }
  },
  "cells": [
    {
      "cell_type": "code",
      "execution_count": null,
      "metadata": {
        "colab": {
          "base_uri": "https://localhost:8080/"
        },
        "id": "WqKRABc001-E",
        "outputId": "15f440d0-6da1-4f20-9e2a-b10e461786ff"
      },
      "outputs": [
        {
          "output_type": "stream",
          "name": "stdout",
          "text": [
            "['A', 'D', 'G', 'H', 'I', 'J', 'L', 'M', 'B', 'C', 'E', 'F', 'K']\n"
          ]
        }
      ],
      "source": [
        "def topological_sort(graph):\n",
        "  n=len(graph)\n",
        "  v = {node: False for node in graph}\n",
        "  ordering=[]\n",
        "  i=n-1\n",
        "  for node in graph:\n",
        "    if not v[node]:\n",
        "      visited_nodes=[]\n",
        "      dfs(graph,node,v,visited_nodes)\n",
        "      ordering.extend(reversed(visited_nodes))\n",
        "  return ordering\n",
        "\n",
        "def dfs(graph,node,v,visited_nodes):\n",
        "  v[node]=True\n",
        "  edges=graph[node]\n",
        "  for edge in graph[node]:\n",
        "    if not v[edge]:\n",
        "      dfs(graph,edge,v,visited_nodes)\n",
        "  visited_nodes.append(node)\n",
        "\n",
        "graph = {\n",
        "    \"A\": [\"D\"],\n",
        "    \"B\": [\"D\"],\n",
        "    \"C\": [\"A\", \"B\"],\n",
        "    \"D\": [\"H\", \"G\"],\n",
        "    \"E\": [\"A\", \"D\", \"F\"],\n",
        "    \"F\": [\"K\", \"J\"],\n",
        "    \"G\": [\"I\"],\n",
        "    \"H\": [\"J\", \"I\"],\n",
        "    \"I\": [\"L\"],\n",
        "    \"J\": [\"M\", \"L\"],\n",
        "    \"K\": [\"J\"],\n",
        "    \"L\": [],\n",
        "    \"M\": []\n",
        "}\n",
        "\n",
        "\n",
        "topological_sorting=topological_sort(graph)\n",
        "print(topological_sorting)"
      ]
    }
  ]
}