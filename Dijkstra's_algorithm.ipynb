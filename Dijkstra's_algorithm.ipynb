{
  "nbformat": 4,
  "nbformat_minor": 0,
  "metadata": {
    "colab": {
      "provenance": []
    },
    "kernelspec": {
      "name": "python3",
      "display_name": "Python 3"
    },
    "language_info": {
      "name": "python"
    }
  },
  "cells": [
    {
      "cell_type": "code",
      "execution_count": 6,
      "metadata": {
        "colab": {
          "base_uri": "https://localhost:8080/"
        },
        "id": "rG1U-3uelOEz",
        "outputId": "c8611834-d78d-41dd-d466-78c17a6b96e7"
      },
      "outputs": [
        {
          "output_type": "stream",
          "name": "stdout",
          "text": [
            "Shortest Path: [2, 1, 3, 4]\n"
          ]
        }
      ],
      "source": [
        "import heapq\n",
        "def dijkstra(graph, start, end):\n",
        "    n=len(graph)\n",
        "    infinity = float('inf')\n",
        "    visited=[False]*n\n",
        "    distance=[infinity]*n\n",
        "    distance[start]=0\n",
        "    previous=[None]*n\n",
        "    pq=[] #empty priority queue\n",
        "    heapq.heappush(pq, (0, start))\n",
        "    '''while pq.qsize()!=0:'''\n",
        "    while pq:\n",
        "       current_dist, node = heapq.heappop(pq)\n",
        "       if visited[node]:\n",
        "            continue\n",
        "       visited[node] = True\n",
        "\n",
        "       for neighbour, weight in graph[node]:\n",
        "            if not visited[neighbour]:\n",
        "                new_dist = distance[node] + weight\n",
        "                if new_dist < distance[neighbour]:\n",
        "                    distance[neighbour] = new_dist\n",
        "                    previous[neighbour] = node\n",
        "                    heapq.heappush(pq, (new_dist, neighbour))\n",
        "\n",
        "    return distance, previous\n",
        "\n",
        "def find_shortest_path(graph,start,end):\n",
        "  dist,prev=dijkstra(graph,start,end)\n",
        "  path=[]\n",
        "  node=end\n",
        "  while node!=start:\n",
        "    path.append(node)\n",
        "    node=prev[node]\n",
        "\n",
        "  path.reverse()\n",
        "  return path\n",
        "\n",
        "\n",
        "graph = {\n",
        "    0: [(1, 4), (2, 1)],\n",
        "    1: [(3, 1)],\n",
        "    2: [(1, 2), (3, 5)],\n",
        "    3: [(4, 3)],\n",
        "    4: []\n",
        "}\n",
        "\n",
        "start = 0\n",
        "end = 4\n",
        "\n",
        "shortest_path = find_shortest_path(graph, start, end)\n",
        "print(\"Shortest Path:\", shortest_path)\n"
      ]
    }
  ]
}